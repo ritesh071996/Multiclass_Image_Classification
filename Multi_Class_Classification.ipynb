{
 "cells": [
  {
   "cell_type": "markdown",
   "metadata": {},
   "source": [
    "## Firstly, I have  converted all categories (category 1, category 2,category 3, category 4) into single training dataset (train)."
   ]
  },
  {
   "cell_type": "code",
   "execution_count": 8,
   "metadata": {},
   "outputs": [],
   "source": [
    "import cv2                 # working with, mainly resizing, images\n",
    "import numpy as np         # dealing with arrays\n",
    "import os                  # dealing with directories\n",
    "from random import shuffle # mixing up or currently ordered data that might lead our network astray in training.\n",
    "from tqdm import tqdm      # a nice pretty percentage bar for tasks. Thanks to viewer Daniel BA1/4hler for this suggestion\n",
    "import tflearn \n",
    "from tflearn.layers.conv import conv_2d, max_pool_2d \n",
    "from tflearn.layers.core import input_data, dropout, fully_connected \n",
    "from tflearn.layers.estimator import regression   \n",
    "import tensorflow as tf"
   ]
  },
  {
   "cell_type": "code",
   "execution_count": 9,
   "metadata": {},
   "outputs": [],
   "source": [
    "import cv2                 # working with, mainly resizing, images\n",
    "import numpy as np         # dealing with arrays\n",
    "import os                  # dealing with directories\n",
    "from random import shuffle # mixing up or currently ordered data that might lead our network astray in training.\n",
    "from tqdm import tqdm      # a nice pretty percentage bar for tasks. Thanks to viewer Daniel BA1/4hler for this suggestion\n",
    "\n",
    "TRAIN_DIR = r'C:\\Users\\DELL\\Desktop\\train'\n",
    "TEST_DIR = r'C:\\Users\\DELL\\Desktop\\test'\n",
    "IMG_SIZE = 50\n",
    "LR = 1e-3\n",
    "\n",
    "MODEL_NAME = 'Multiclass_classification-{}-{}.model'.format(LR, '2conv-basic') # "
   ]
  },
  {
   "cell_type": "code",
   "execution_count": 10,
   "metadata": {},
   "outputs": [],
   "source": [
    "def label_img(img):\n",
    "    \n",
    "    word_label = img[0:10]\n",
    "    # conversion to one-hot array [category 1, category 2,category 3, category 4] \n",
    "\n",
    "    if word_label == 'category 1': return [1,0,0,0]\n",
    "                         \n",
    "    elif word_label == 'category 2': return [0,1,0,0]\n",
    "    \n",
    "    elif word_label == 'category 3': return [0,0,1,0]\n",
    "    \n",
    "    elif word_label == 'category 4': return [0,0,0,1]"
   ]
  },
  {
   "cell_type": "code",
   "execution_count": 11,
   "metadata": {},
   "outputs": [
    {
     "name": "stderr",
     "output_type": "stream",
     "text": [
      "100%|████████████████████████████████████████████████████████████████████████████████| 440/440 [00:08<00:00, 54.36it/s]\n"
     ]
    },
    {
     "name": "stdout",
     "output_type": "stream",
     "text": [
      "440\n",
      "440\n"
     ]
    }
   ],
   "source": [
    "training_data = []\n",
    "for img in tqdm(os.listdir(TRAIN_DIR)):\n",
    "    label = label_img(img)\n",
    "    #print(label)\n",
    "    path = os.path.join(TRAIN_DIR,img)\n",
    "    img = cv2.imread(path,cv2.IMREAD_GRAYSCALE)\n",
    "    img = cv2.resize(img, (IMG_SIZE,IMG_SIZE))\n",
    "    training_data.append([np.array(img),np.array(label)])\n",
    "\n",
    "np.save('train_data.npy', training_data)\n",
    "print(len(training_data))\n",
    "\n",
    "train_data = training_data\n",
    "print(len(train_data))"
   ]
  },
  {
   "cell_type": "code",
   "execution_count": 12,
   "metadata": {
    "scrolled": false
   },
   "outputs": [],
   "source": [
    "shuffle(train_data)# mixing up or currently ordered data that might lead our network astray in training.\n",
    "#print(train_data)"
   ]
  },
  {
   "cell_type": "code",
   "execution_count": 13,
   "metadata": {},
   "outputs": [
    {
     "name": "stderr",
     "output_type": "stream",
     "text": [
      "100%|██████████████████████████████████████████████████████████████████████████████████| 30/30 [00:01<00:00, 28.76it/s]\n"
     ]
    }
   ],
   "source": [
    "def process_test_data():\n",
    "    testing_data = []\n",
    "    for img in tqdm(os.listdir(TEST_DIR)):\n",
    "        path = os.path.join(TEST_DIR,img)\n",
    "        img_num = img.split('.')[0]\n",
    "        img = cv2.imread(path,cv2.IMREAD_GRAYSCALE)\n",
    "        img = cv2.resize(img, (IMG_SIZE,IMG_SIZE))\n",
    "        testing_data.append([np.array(img), img_num])\n",
    "        \n",
    "    shuffle(testing_data)\n",
    "    np.save('test_data.npy', testing_data)\n",
    "    return testing_data\n",
    "\n",
    "test_data = process_test_data()"
   ]
  },
  {
   "cell_type": "code",
   "execution_count": 14,
   "metadata": {},
   "outputs": [],
   "source": [
    "import tflearn \n",
    "from tflearn.layers.conv import conv_2d, max_pool_2d \n",
    "from tflearn.layers.core import input_data, dropout, fully_connected \n",
    "from tflearn.layers.estimator import regression   \n",
    "import tensorflow as tf \n",
    "\n",
    "tf.reset_default_graph() \n",
    "convnet = input_data(shape =[None, IMG_SIZE, IMG_SIZE, 1], name ='input') \n",
    "  \n",
    "convnet = conv_2d(convnet, 32, 5, activation ='relu') \n",
    "convnet = max_pool_2d(convnet, 5) \n",
    "  \n",
    "convnet = conv_2d(convnet, 64, 5, activation ='relu') \n",
    "convnet = max_pool_2d(convnet, 5) \n",
    "  \n",
    "convnet = conv_2d(convnet, 128, 5, activation ='relu') \n",
    "convnet = max_pool_2d(convnet, 5) \n",
    "  \n",
    "convnet = conv_2d(convnet, 64, 5, activation ='relu') \n",
    "convnet = max_pool_2d(convnet, 5) \n",
    "  \n",
    "convnet = conv_2d(convnet, 32, 5, activation ='relu') \n",
    "convnet = max_pool_2d(convnet, 5) \n",
    "  \n",
    "convnet = fully_connected(convnet, 1024, activation ='relu') \n",
    "convnet = dropout(convnet, 0.8) \n",
    "  \n",
    "convnet = fully_connected(convnet, 4, activation ='softmax') \n",
    "convnet = regression(convnet, optimizer ='adam', learning_rate = LR, \n",
    "      loss ='categorical_crossentropy', name ='targets') \n",
    "  \n",
    "model = tflearn.DNN(convnet) "
   ]
  },
  {
   "cell_type": "code",
   "execution_count": 15,
   "metadata": {},
   "outputs": [],
   "source": [
    "train = train_data[:-40]\n",
    "test = train_data[-40:]"
   ]
  },
  {
   "cell_type": "code",
   "execution_count": 16,
   "metadata": {},
   "outputs": [],
   "source": [
    "X = np.array([i[0] for i in train]).reshape(-1, IMG_SIZE, IMG_SIZE, 1) \n",
    "Y = [i[1] for i in train] \n",
    "test_x = np.array([i[0] for i in test]).reshape(-1, IMG_SIZE, IMG_SIZE, 1) \n",
    "test_y = [i[1] for i in test] "
   ]
  },
  {
   "cell_type": "code",
   "execution_count": 18,
   "metadata": {
    "scrolled": false
   },
   "outputs": [
    {
     "name": "stdout",
     "output_type": "stream",
     "text": [
      "Training Step: 139  | total loss: 0.46175 | time: 1.475s\n",
      "| Adam | epoch: 020 | loss: 0.46175 - acc: 0.9180 -- iter: 384/400\n",
      "Training Step: 140  | total loss: 0.42123 | time: 2.743s\n",
      "| Adam | epoch: 020 | loss: 0.42123 - acc: 0.9231 | val_loss: 0.08951 - val_acc: 0.9500 -- iter: 400/400\n",
      "--\n",
      "INFO:tensorflow:C:\\Users\\DELL\\Desktop\\Image_2\\Image_2\\Code\\Multiclass_classification-0.001-2conv-basic.model is not in all_model_checkpoint_paths. Manually adding it.\n"
     ]
    }
   ],
   "source": [
    "model.fit({'input': X}, {'targets': Y}, n_epoch = 10,  \n",
    "    validation_set =({'input': test_x}, {'targets': test_y}),  \n",
    "    snapshot_step = 500, show_metric = True, run_id = MODEL_NAME) \n",
    "model.save(MODEL_NAME) "
   ]
  },
  {
   "cell_type": "markdown",
   "metadata": {},
   "source": [
    "## Accuracy = 95%"
   ]
  },
  {
   "cell_type": "code",
   "execution_count": 23,
   "metadata": {},
   "outputs": [
    {
     "data": {
      "image/png": "[encoded data removed]",
      "text/plain": [
       "<Figure size 432x288 with 15 Axes>"
      ]
     },
     "metadata": {
      "needs_background": "light"
     },
     "output_type": "display_data"
    }
   ],
   "source": [
    "import matplotlib.pyplot as plt \n",
    "test_data = np.load('test_data.npy')\n",
    "fig=plt.figure()\n",
    "\n",
    "#print(len(test_data))\n",
    "\n",
    "for num, data in enumerate(test_data[:15]):  \n",
    "    # category 1: [1,0,0,0]\n",
    "    # category 2: [0,1,0,0]\n",
    "    # category 3: [0,0,1,0]\n",
    "    # category 4: [0,0,0,1]\n",
    "      \n",
    "    img_num = data[1] \n",
    "    img_data = data[0] \n",
    "      \n",
    "    y = fig.add_subplot(3, 5, num + 1) \n",
    "    orig = img_data \n",
    "    data = img_data.reshape(IMG_SIZE, IMG_SIZE, 1) \n",
    "  \n",
    "    model_out = model.predict([data])[0] \n",
    "    #print(model_out)\n",
    "    \n",
    "    if np.argmax(model_out) == 0: str_label ='category 1'\n",
    "    elif np.argmax(model_out) == 1: str_label ='category 2'\n",
    "    elif np.argmax(model_out) == 2: str_label ='category 3'\n",
    "    elif np.argmax(model_out) == 3: str_label ='category 4'      \n",
    "          \n",
    "    y.imshow(orig, cmap ='gray') \n",
    "    plt.title(str_label) \n",
    "    y.axes.get_xaxis().set_visible(False) \n",
    "    y.axes.get_yaxis().set_visible(False) \n",
    "plt.show() "
   ]
  },
  {
   "cell_type": "code",
   "execution_count": null,
   "metadata": {},
   "outputs": [],
   "source": []
  }
 ],
 "metadata": {
  "kernelspec": {
   "display_name": "Python 3.7 (tensorflow)",
   "language": "python",
   "name": "tensorflow"
  },
  "language_info": {
   "codemirror_mode": {
    "name": "ipython",
    "version": 3
   },
   "file_extension": ".py",
   "mimetype": "text/x-python",
   "name": "python",
   "nbconvert_exporter": "python",
   "pygments_lexer": "ipython3",
   "version": "3.7.2"
  }
 },
 "nbformat": 4,
 "nbformat_minor": 2
}
