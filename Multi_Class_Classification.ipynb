{
 "cells": [
  {
   "cell_type": "markdown",
   "metadata": {},
   "source": [
    "## Firstly, I have  converted all categories (category 1, category 2,category 3, category 4) into single training dataset (train)."
   ]
  },
  {
   "cell_type": "code",
   "execution_count": 1,
   "metadata": {},
   "outputs": [],
   "source": [
    "import cv2                 # working with, mainly resizing, images\n",
    "import numpy as np         # dealing with arrays\n",
    "import os                  # dealing with directories\n",
    "from random import shuffle # mixing up or currently ordered data that might lead our network astray in training.\n",
    "from tqdm import tqdm      # a nice pretty percentage bar for tasks. Thanks to viewer Daniel BA1/4hler for this suggestion\n",
    "\n",
    "TRAIN_DIR = r'C:\\Users\\DELL\\Desktop\\train'\n",
    "TEST_DIR = r'C:\\Users\\DELL\\Desktop\\test'\n",
    "IMG_SIZE = 50\n",
    "LR = 1e-3\n",
    "\n",
    "MODEL_NAME = 'Multiclass_classification-{}-{}.model'.format(LR, '2conv-basic') # "
   ]
  },
  {
   "cell_type": "code",
   "execution_count": 2,
   "metadata": {},
   "outputs": [],
   "source": [
    "def label_img(img):\n",
    "    \n",
    "    word_label = img[0:10]\n",
    "    # conversion to one-hot array [category 1, category 2,category 3, category 4] \n",
    "\n",
    "    if word_label == 'category 1': return [1,0,0,0]\n",
    "                         \n",
    "    elif word_label == 'category 2': return [0,1,0,0]\n",
    "    \n",
    "    elif word_label == 'category 3': return [0,0,1,0]\n",
    "    \n",
    "    elif word_label == 'category 4': return [0,0,0,1]"
   ]
  },
  {
   "cell_type": "code",
   "execution_count": 3,
   "metadata": {},
   "outputs": [
    {
     "name": "stderr",
     "output_type": "stream",
     "text": [
      "100%|████████████████████████████████████████████████████████████████████████████████| 440/440 [00:05<00:00, 84.52it/s]\n"
     ]
    },
    {
     "name": "stdout",
     "output_type": "stream",
     "text": [
      "440\n",
      "440\n"
     ]
    }
   ],
   "source": [
    "training_data = []\n",
    "for img in tqdm(os.listdir(TRAIN_DIR)):\n",
    "    label = label_img(img)\n",
    "    #print(label)\n",
    "    path = os.path.join(TRAIN_DIR,img)\n",
    "    img = cv2.imread(path,cv2.IMREAD_GRAYSCALE)\n",
    "    img = cv2.resize(img, (IMG_SIZE,IMG_SIZE))\n",
    "    training_data.append([np.array(img),np.array(label)])\n",
    "\n",
    "np.save('train_data.npy', training_data)\n",
    "print(len(training_data))\n",
    "\n",
    "train_data = training_data\n",
    "print(len(train_data))"
   ]
  },
  {
   "cell_type": "code",
   "execution_count": 6,
   "metadata": {
    "scrolled": false
   },
   "outputs": [],
   "source": [
    "shuffle(train_data)# mixing up or currently ordered data that might lead our network astray in training.\n",
    "#print(train_data)"
   ]
  },
  {
   "cell_type": "code",
   "execution_count": 7,
   "metadata": {},
   "outputs": [
    {
     "name": "stderr",
     "output_type": "stream",
     "text": [
      "100%|██████████████████████████████████████████████████████████████████████████████████| 30/30 [00:00<00:00, 92.11it/s]\n"
     ]
    }
   ],
   "source": [
    "def process_test_data():\n",
    "    testing_data = []\n",
    "    for img in tqdm(os.listdir(TEST_DIR)):\n",
    "        path = os.path.join(TEST_DIR,img)\n",
    "        img_num = img.split('.')[0]\n",
    "        img = cv2.imread(path,cv2.IMREAD_GRAYSCALE)\n",
    "        img = cv2.resize(img, (IMG_SIZE,IMG_SIZE))\n",
    "        testing_data.append([np.array(img), img_num])\n",
    "        \n",
    "    shuffle(testing_data)\n",
    "    np.save('test_data.npy', testing_data)\n",
    "    return testing_data\n",
    "\n",
    "test_data = process_test_data()"
   ]
  },
  {
   "cell_type": "code",
   "execution_count": 8,
   "metadata": {
    "collapsed": true
   },
   "outputs": [
    {
     "name": "stdout",
     "output_type": "stream",
     "text": [
      "curses is not supported on this machine (please install/reinstall curses for an optimal experience)\n",
      "WARNING:tensorflow:From C:\\Users\\DELL\\Miniconda3\\envs\\tensorflow\\lib\\site-packages\\tensorflow\\python\\framework\\op_def_library.py:263: colocate_with (from tensorflow.python.framework.ops) is deprecated and will be removed in a future version.\n",
      "Instructions for updating:\n",
      "Colocations handled automatically by placer.\n",
      "WARNING:tensorflow:From C:\\Users\\DELL\\Miniconda3\\envs\\tensorflow\\lib\\site-packages\\tflearn\\initializations.py:119: UniformUnitScaling.__init__ (from tensorflow.python.ops.init_ops) is deprecated and will be removed in a future version.\n",
      "Instructions for updating:\n",
      "Use tf.initializers.variance_scaling instead with distribution=uniform to get equivalent behavior.\n",
      "WARNING:tensorflow:From C:\\Users\\DELL\\Miniconda3\\envs\\tensorflow\\lib\\site-packages\\tflearn\\layers\\core.py:239: calling dropout (from tensorflow.python.ops.nn_ops) with keep_prob is deprecated and will be removed in a future version.\n",
      "Instructions for updating:\n",
      "Please use `rate` instead of `keep_prob`. Rate should be set to `rate = 1 - keep_prob`.\n",
      "WARNING:tensorflow:From C:\\Users\\DELL\\Miniconda3\\envs\\tensorflow\\lib\\site-packages\\tflearn\\objectives.py:66: calling reduce_sum_v1 (from tensorflow.python.ops.math_ops) with keep_dims is deprecated and will be removed in a future version.\n",
      "Instructions for updating:\n",
      "keep_dims is deprecated, use keepdims instead\n",
      "WARNING:tensorflow:From C:\\Users\\DELL\\Miniconda3\\envs\\tensorflow\\lib\\site-packages\\tensorflow\\python\\ops\\math_ops.py:3066: to_int32 (from tensorflow.python.ops.math_ops) is deprecated and will be removed in a future version.\n",
      "Instructions for updating:\n",
      "Use tf.cast instead.\n"
     ]
    }
   ],
   "source": [
    "import tflearn \n",
    "from tflearn.layers.conv import conv_2d, max_pool_2d \n",
    "from tflearn.layers.core import input_data, dropout, fully_connected \n",
    "from tflearn.layers.estimator import regression   \n",
    "import tensorflow as tf \n",
    "\n",
    "tf.reset_default_graph() \n",
    "convnet = input_data(shape =[None, IMG_SIZE, IMG_SIZE, 1], name ='input') \n",
    "  \n",
    "convnet = conv_2d(convnet, 32, 5, activation ='relu') \n",
    "convnet = max_pool_2d(convnet, 5) \n",
    "  \n",
    "convnet = conv_2d(convnet, 64, 5, activation ='relu') \n",
    "convnet = max_pool_2d(convnet, 5) \n",
    "  \n",
    "convnet = conv_2d(convnet, 128, 5, activation ='relu') \n",
    "convnet = max_pool_2d(convnet, 5) \n",
    "  \n",
    "convnet = conv_2d(convnet, 64, 5, activation ='relu') \n",
    "convnet = max_pool_2d(convnet, 5) \n",
    "  \n",
    "convnet = conv_2d(convnet, 32, 5, activation ='relu') \n",
    "convnet = max_pool_2d(convnet, 5) \n",
    "  \n",
    "convnet = fully_connected(convnet, 1024, activation ='relu') \n",
    "convnet = dropout(convnet, 0.8) \n",
    "  \n",
    "convnet = fully_connected(convnet, 4, activation ='softmax') \n",
    "convnet = regression(convnet, optimizer ='adam', learning_rate = LR, \n",
    "      loss ='categorical_crossentropy', name ='targets') \n",
    "  \n",
    "model = tflearn.DNN(convnet) "
   ]
  },
  {
   "cell_type": "code",
   "execution_count": 9,
   "metadata": {},
   "outputs": [],
   "source": [
    "train = train_data[:-40]\n",
    "test = train_data[-40:]"
   ]
  },
  {
   "cell_type": "code",
   "execution_count": 10,
   "metadata": {},
   "outputs": [],
   "source": [
    "X = np.array([i[0] for i in train]).reshape(-1, IMG_SIZE, IMG_SIZE, 1) \n",
    "Y = [i[1] for i in train] \n",
    "test_x = np.array([i[0] for i in test]).reshape(-1, IMG_SIZE, IMG_SIZE, 1) \n",
    "test_y = [i[1] for i in test] "
   ]
  },
  {
   "cell_type": "code",
   "execution_count": 11,
   "metadata": {
    "scrolled": false
   },
   "outputs": [
    {
     "name": "stdout",
     "output_type": "stream",
     "text": [
      "Training Step: 69  | total loss: 0.21622 | time: 1.870s\n",
      "| Adam | epoch: 010 | loss: 0.21622 - acc: 0.9276 -- iter: 384/400\n",
      "Training Step: 70  | total loss: 0.20025 | time: 3.133s\n",
      "| Adam | epoch: 010 | loss: 0.20025 - acc: 0.9342 | val_loss: 0.22369 - val_acc: 0.9500 -- iter: 400/400\n",
      "--\n",
      "INFO:tensorflow:C:\\Users\\DELL\\Desktop\\Image_2\\Image_2\\Code\\Multiclass_classification-0.001-2conv-basic.model is not in all_model_checkpoint_paths. Manually adding it.\n"
     ]
    }
   ],
   "source": [
    "model.fit({'input': X}, {'targets': Y}, n_epoch = 10,  \n",
    "    validation_set =({'input': test_x}, {'targets': test_y}),  \n",
    "    snapshot_step = 500, show_metric = True, run_id = MODEL_NAME) \n",
    "model.save(MODEL_NAME) "
   ]
  },
  {
   "cell_type": "markdown",
   "metadata": {},
   "source": [
    "## Accuracy = 95%"
   ]
  },
  {
   "cell_type": "code",
   "execution_count": 20,
   "metadata": {},
   "outputs": [
    {
     "data": {
      "image/png": "[encoded data removed]",
      "text/plain": [
       "<Figure size 432x288 with 15 Axes>"
      ]
     },
     "metadata": {
      "needs_background": "light"
     },
     "output_type": "display_data"
    }
   ],
   "source": [
    "import matplotlib.pyplot as plt \n",
    "test_data = np.load('test_data.npy')\n",
    "fig=plt.figure()\n",
    "\n",
    "#print(len(test_data))\n",
    "\n",
    "for num, data in enumerate(test_data[:15]):  \n",
    "    # category 1: [1,0,0,0]\n",
    "    # category 2: [0,1,0,0]\n",
    "    # category 3: [0,0,1,0]\n",
    "    # category 4: [0,0,0,1]\n",
    "      \n",
    "    img_num = data[1] \n",
    "    img_data = data[0] \n",
    "      \n",
    "    y = fig.add_subplot(3, 5, num + 1) \n",
    "    orig = img_data \n",
    "    data = img_data.reshape(IMG_SIZE, IMG_SIZE, 1) \n",
    "  \n",
    "    model_out = model.predict([data])[0] \n",
    "    #print(model_out)\n",
    "    \n",
    "    if np.argmax(model_out) == 0: str_label ='category 2'\n",
    "    elif np.argmax(model_out) == 1: str_label ='category 2'\n",
    "    elif np.argmax(model_out) == 2: str_label ='category 3'\n",
    "    elif np.argmax(model_out) == 3: str_label ='category 4'      \n",
    "          \n",
    "    y.imshow(orig, cmap ='gray') \n",
    "    plt.title(str_label) \n",
    "    y.axes.get_xaxis().set_visible(False) \n",
    "    y.axes.get_yaxis().set_visible(False) \n",
    "plt.show() "
   ]
  },
  {
   "cell_type": "code",
   "execution_count": null,
   "metadata": {},
   "outputs": [],
   "source": []
  }
 ],
 "metadata": {
  "kernelspec": {
   "display_name": "Python 3.7 (tensorflow)",
   "language": "python",
   "name": "tensorflow"
  },
  "language_info": {
   "codemirror_mode": {
    "name": "ipython",
    "version": 3
   },
   "file_extension": ".py",
   "mimetype": "text/x-python",
   "name": "python",
   "nbconvert_exporter": "python",
   "pygments_lexer": "ipython3",
   "version": "3.7.2"
  }
 },
 "nbformat": 4,
 "nbformat_minor": 2
}
